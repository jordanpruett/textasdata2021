{
  "nbformat": 4,
  "nbformat_minor": 0,
  "metadata": {
    "colab": {
      "name": "NLTKworkbook.ipynb",
      "provenance": [],
      "collapsed_sections": []
    },
    "kernelspec": {
      "display_name": "Python 3",
      "name": "python3"
    }
  },
  "cells": [
    {
      "cell_type": "markdown",
      "metadata": {
        "id": "TvX-CGp0Fvcc"
      },
      "source": [
        "**INTRODUCTION**\n",
        "\n",
        "This notebook gives a simple walkthrough of the Natural Language Toolkit (NLTK), an open-source Python library for text analysis. For this first section, make sure you have downloaded \"poplyrics.zip\" into a folder on your computer that you can easily access."
      ]
    },
    {
      "cell_type": "markdown",
      "metadata": {
        "id": "Ud8ois3hGGbU"
      },
      "source": [
        "Running this notebook is very straightforward. Each snippet of code is separated into a \"cell,\" which must be run individually by clicking on the little \"play\" icon in the top-left corner of that cell. Before each cell, there are instructions that explain what that cell does.\n",
        "\n",
        "Make sure not to skip any cells, as some of the later cells depend on code from earlier cells. If you close the notebook and re-open it later, you will need to run each cell in order again."
      ]
    },
    {
      "cell_type": "markdown",
      "metadata": {
        "id": "sYTblX2DGydM"
      },
      "source": [
        "**PART ONE: NLTK**\n",
        "\n",
        "First, we have to \"import\" a few special Python libraries that we'll be using for this assignment, including NLTK."
      ]
    },
    {
      "cell_type": "code",
      "metadata": {
        "colab": {
          "base_uri": "https://localhost:8080/"
        },
        "id": "pKY18K8Yrn3-",
        "outputId": "5b46ab22-2ee6-4d48-9698-e6e1535f7f7f"
      },
      "source": [
        "import nltk\n",
        "import os, string, json\n",
        "from google.colab import files\n",
        "nltk.download('punkt')\n",
        "nltk.download('stopwords')"
      ],
      "execution_count": null,
      "outputs": [
        {
          "output_type": "stream",
          "text": [
            "[nltk_data] Downloading package punkt to /root/nltk_data...\n",
            "[nltk_data]   Unzipping tokenizers/punkt.zip.\n",
            "[nltk_data] Downloading package stopwords to /root/nltk_data...\n",
            "[nltk_data]   Unzipping corpora/stopwords.zip.\n"
          ],
          "name": "stdout"
        },
        {
          "output_type": "execute_result",
          "data": {
            "text/plain": [
              "True"
            ]
          },
          "metadata": {
            "tags": []
          },
          "execution_count": 1
        }
      ]
    },
    {
      "cell_type": "markdown",
      "metadata": {
        "id": "0BjnMSobHBmL"
      },
      "source": [
        "All of the processes that get run in a Google Colab notebook happen on a Google cloud server rather than your own computer. This means that any text files we want to work with have to be uploaded to that cloud server before they can be used.\n",
        "\n",
        "When you run the next cell, a little button will appear that prompts you to upload a file. Upload \"poplyrics.zip.\" Make sure to upload the actual zip file rather than the unzipped contents. Depending on the speed of your Internet connection, this may take anywhere from 5 seconds to a couple minutes."
      ]
    },
    {
      "cell_type": "code",
      "metadata": {
        "colab": {
          "background_save": true
        },
        "id": "xJ9o137Q0BwM"
      },
      "source": [
        "files.upload()"
      ],
      "execution_count": null,
      "outputs": []
    },
    {
      "cell_type": "markdown",
      "metadata": {
        "id": "BjB6iLNTHo7c"
      },
      "source": [
        "This next cell just unzips the folder so we can access the lyrics inside."
      ]
    },
    {
      "cell_type": "code",
      "metadata": {
        "id": "ulb3VwRq3uyd"
      },
      "source": [
        "!unzip poplyrics.zip"
      ],
      "execution_count": null,
      "outputs": []
    },
    {
      "cell_type": "markdown",
      "metadata": {
        "id": "u_jI51fyHuZT"
      },
      "source": [
        "Now run this cell, which prepares the text for processing, by reading the file, forcing characters to lowercase, and stripping punctuation."
      ]
    },
    {
      "cell_type": "code",
      "metadata": {
        "id": "fs0m_WYU0TI2"
      },
      "source": [
        "plain_texts = []\n",
        "for file in os.scandir():\n",
        "    if file.name.endswith('.txt'):\n",
        "        with open(file.path, 'r') as txtfile:\n",
        "            name = file.name.split('.')[0]\n",
        "            text = ''.join(c.lower() for c in txtfile.read() if c not in string.punctuation)\n",
        "            plain_texts.append((name, text))"
      ],
      "execution_count": null,
      "outputs": []
    },
    {
      "cell_type": "markdown",
      "metadata": {
        "id": "5i3P0r7QH6-z"
      },
      "source": [
        "Next, we will \"tokenize\" the text, which is the process of splitting the text into individual words (\"tokens\"). NLTK has a built-in method for doing this, which relies on spaces and new line characters."
      ]
    },
    {
      "cell_type": "code",
      "metadata": {
        "id": "52D50G8k4t1U"
      },
      "source": [
        "from nltk import Text, word_tokenize\n",
        "texts = [(name, Text(word_tokenize(txt))) for (name, txt) in plain_texts]"
      ],
      "execution_count": null,
      "outputs": []
    },
    {
      "cell_type": "markdown",
      "metadata": {
        "id": "bZU_CY9cInic"
      },
      "source": [
        "Now let's see what we're working with. The following cell prints out the names of each of the lyrics in our collection, as well as a numerical identifier for that set of lyrics."
      ]
    },
    {
      "cell_type": "code",
      "metadata": {
        "colab": {
          "base_uri": "https://localhost:8080/"
        },
        "id": "pNk11w3I7LTL",
        "outputId": "26b6bcbb-0493-46d6-fd22-28bc3c50b810"
      },
      "source": [
        "for i, text in enumerate(texts):\n",
        "    print(i, text[0])"
      ],
      "execution_count": null,
      "outputs": [
        {
          "output_type": "stream",
          "text": [
            "0 nirvana\n",
            "1 bob-dylan\n",
            "2 eminem\n",
            "3 bjork\n",
            "4 blink-182\n",
            "5 Kanye_West\n",
            "6 johnny-cash\n",
            "7 janisjoplin\n",
            "8 lorde\n",
            "9 notorious-big\n",
            "10 drake\n",
            "11 notorious_big\n",
            "12 cake\n",
            "13 dr-seuss\n",
            "14 nickelback\n",
            "15 michael-jackson\n",
            "16 leonard-cohen\n",
            "17 paul-simon\n",
            "18 beatles\n",
            "19 lin-manuel-miranda\n",
            "20 alicia-keys\n",
            "21 nicki-minaj\n",
            "22 bieber\n",
            "23 lil-wayne\n",
            "24 disney\n",
            "25 prince\n",
            "26 adele\n",
            "27 al-green\n",
            "28 radiohead\n",
            "29 missy-elliott\n",
            "30 kanye-west\n",
            "31 jimi-hendrix\n",
            "32 patti-smith\n",
            "33 nursery_rhymes\n",
            "34 britney-spears\n",
            "35 rihanna\n",
            "36 bruno-mars\n",
            "37 joni-mitchell\n",
            "38 ludacris\n",
            "39 bob-marley\n",
            "40 dickinson\n",
            "41 amy-winehouse\n",
            "42 bruce-springsteen\n",
            "43 r-kelly\n",
            "44 dolly-parton\n",
            "45 lady-gaga\n",
            "46 Lil_Wayne\n",
            "47 kanye\n",
            "48 dj-khaled\n"
          ],
          "name": "stdout"
        }
      ]
    },
    {
      "cell_type": "markdown",
      "metadata": {
        "id": "zo1Bk_2iJCl7"
      },
      "source": [
        "Let's see if we can find a way to visualize what makes the lyrics of each of these artists distinctive. One simple way to do this is to just see which words a given artist uses more frequently than other artists.\n",
        "\n",
        "In order to get such a statistic, we'll need to know how much each word is used on average throughout the entire corpus. That is, we'll calculate the amount that we would expect every word to be used in a hypothetical world in which all artists used words at exactly the same rate. \n",
        "\n",
        "Of course, it would be really bizarre if that hypotethical world were real. This is just a thought experiment that allows us to quantify how much more frequently an artist uses a given word than average. "
      ]
    },
    {
      "cell_type": "code",
      "metadata": {
        "id": "hhjpw9TIzIDj"
      },
      "source": [
        "from nltk import FreqDist\n",
        "\n",
        "agg_texts = word_tokenize(''.join([text for (title, text) in plain_texts]))\n",
        "agg_freq = FreqDist(agg_texts)\n",
        "exp_freq = {word: value / len(agg_texts) for (word, value) in agg_freq.items()}"
      ],
      "execution_count": null,
      "outputs": []
    },
    {
      "cell_type": "markdown",
      "metadata": {
        "id": "hhqEYRvMKYcs"
      },
      "source": [
        "Now, using the numberical identifiers from above, pick an artist whose lyrics you would like to examine more closely. You can do this by editing the \"selection = 26\" statement with the number that corresponds to your chosen artist."
      ]
    },
    {
      "cell_type": "code",
      "metadata": {
        "id": "r6OVcJ4d7afr"
      },
      "source": [
        "selection = 33 \n",
        "my_text = texts[selection][1]"
      ],
      "execution_count": null,
      "outputs": []
    },
    {
      "cell_type": "markdown",
      "metadata": {
        "id": "5sdXiq3fLANj"
      },
      "source": [
        "Alright, now let's find the words that diverge the most from the expected value. That is, these are the words that the artist uses more often than the average for all our artists.\n",
        "\n",
        "We also remove common function words like \"the\" and \"and,\" which are sometimes called \"stopwords.\" This is not strictly necessary; sometimes you'll find that some texts use \"the\" more often than others, and this might be interesting. For this assignment, however, we'll strip out those boring words."
      ]
    },
    {
      "cell_type": "code",
      "metadata": {
        "id": "j-PcL9FlvyO3"
      },
      "source": [
        "my_freq = {word: value / len(my_text) for (word, value) in FreqDist(my_text).items()}\n",
        "divergences = [(word, my_freq[word] - exp_freq[word]) if word in my_freq else (word, 0 - exp_freq[word]) for word in exp_freq]\n",
        "divergences = sorted(divergences, key = lambda x: x[1], reverse=True)\n",
        "divergences = [(word, round(value, 8)) for (word, value) in divergences if word not in nltk.corpus.stopwords.words('english')]"
      ],
      "execution_count": null,
      "outputs": []
    },
    {
      "cell_type": "markdown",
      "metadata": {
        "id": "0tuH3S-3L6jD"
      },
      "source": [
        "The following cell prints out the words that scored highest from this method. By default, it prints out the top 50, but you can print out more or fewer by editing the \"number_to_show = 50\" statement. \n",
        "\n",
        "If the printed words are cluttering your screen, you can clear out the print statement by clicking on the \"X\" in the output cell, which will appear if you hover your mouse underneath the \"run cell\" button."
      ]
    },
    {
      "cell_type": "code",
      "metadata": {
        "id": "T5joOlMRL0cs",
        "colab": {
          "base_uri": "https://localhost:8080/"
        },
        "outputId": "052065bc-1d7f-471d-e9e7-bc1fbdda498a"
      },
      "source": [
        "number_to_show = 50\n",
        "divergences[:number_to_show]"
      ],
      "execution_count": null,
      "outputs": [
        {
          "output_type": "execute_result",
          "data": {
            "text/plain": [
              "[('little', 0.01053155),\n",
              " ('went', 0.0039758),\n",
              " ('old', 0.0037476),\n",
              " ('says', 0.00328474),\n",
              " ('dog', 0.00284207),\n",
              " ('shall', 0.00278766),\n",
              " ('jack', 0.0025943),\n",
              " ('rowley', 0.00247087),\n",
              " ('came', 0.0023799),\n",
              " ('three', 0.00232573),\n",
              " ('pig', 0.00227524),\n",
              " ('sing', 0.00211974),\n",
              " ('said', 0.00209798),\n",
              " ('cat', 0.00205016),\n",
              " ('wont', 0.00200068),\n",
              " ('cow', 0.00181711),\n",
              " ('two', 0.00180988),\n",
              " ('made', 0.00176136),\n",
              " ('mother', 0.00169853),\n",
              " ('lady', 0.00168676),\n",
              " ('heigho', 0.00164725),\n",
              " ('water', 0.00155805),\n",
              " ('began', 0.00155308),\n",
              " ('rat', 0.00154498),\n",
              " ('merry', 0.00151486),\n",
              " ('woman', 0.00150278),\n",
              " ('sat', 0.001481),\n",
              " ('house', 0.00141672),\n",
              " ('robin', 0.00139205),\n",
              " ('mouse', 0.00132071),\n",
              " ('away', 0.00131956),\n",
              " ('stick', 0.0012993),\n",
              " ('heigh', 0.00129426),\n",
              " ('may', 0.00127409),\n",
              " ('upon', 0.00122937),\n",
              " ('ho', 0.0012036),\n",
              " ('ate', 0.0012001),\n",
              " ('cock', 0.00119348),\n",
              " ('ran', 0.00119194),\n",
              " ('pretty', 0.00119103),\n",
              " ('fire', 0.00114379),\n",
              " ('wife', 0.00114268),\n",
              " ('poor', 0.00110226),\n",
              " ('king', 0.00109845),\n",
              " ('pie', 0.00103612),\n",
              " ('built', 0.0010295),\n",
              " ('fell', 0.00102423),\n",
              " ('town', 0.00099981),\n",
              " ('kittens', 0.00099791),\n",
              " ('butcher', 0.00099791)]"
            ]
          },
          "metadata": {
            "tags": []
          },
          "execution_count": 10
        }
      ]
    },
    {
      "cell_type": "markdown",
      "metadata": {
        "id": "WAM_panJMw5z"
      },
      "source": [
        "Now that we've discovered some \"distinctive\" words for our artist, let's investigate them more closely. The following cell prints out the \"concordances\" of a word, which refers to the contextual usage of that word.\n",
        "\n",
        "Select your word by altering the \"word = \" statement of the following cell. make sure to wrap your word in quotation marks. You can change the number of concordances to show by editing the \"lines = 25\" statement and you can change the \"width\" of the concordance by changing the \"window = 80\" statement.\n",
        "\n"
      ]
    },
    {
      "cell_type": "code",
      "metadata": {
        "id": "cBJlfN_769BM",
        "colab": {
          "base_uri": "https://localhost:8080/"
        },
        "outputId": "d99d2c14-d8c8-46b4-e94b-7d5fb9339000"
      },
      "source": [
        "window = 80\n",
        "lines = 25\n",
        "word = \"little\"\n",
        "my_text.concordance(word, width=window, lines=lines)"
      ],
      "execution_count": null,
      "outputs": [
        {
          "output_type": "stream",
          "text": [
            "Displaying 25 of 200 matches:\n",
            "nie lamb you shall get a fishie on a little dishie you shall get a fishie when t\n",
            " could not fail because he had got a little salt to put upon his tail he went to\n",
            "to ride a spotted cow that had got a little calf she threw him down upon the gro\n",
            " i shall have a good dinner like you little jack horner little jack horner sat i\n",
            "d dinner like you little jack horner little jack horner sat in a corner eating o\n",
            "ood boy was i the wooing there was a little man who wooed a little maid and he s\n",
            "g there was a little man who wooed a little maid and he said little maid will yo\n",
            " who wooed a little maid and he said little maid will you wed wed wed i have lit\n",
            "tle maid will you wed wed wed i have little more to say so will you ay or nay fo\n",
            "d is soonest mended ded ded then the little maid replied should i be your little\n",
            "little maid replied should i be your little bride pray what must we have for to \n",
            "n light a fire in the kitchen or the little god of love turn the spit spit spit \n",
            "g back one leg blue bell boy i had a little boy and called him blue bell gave hi\n",
            " and called him blue bell gave him a little work he did it very well i bade him \n",
            "pin in coalscuttle fell he up to his little chin he went to the garden to pick a\n",
            "chin he went to the garden to pick a little sage he tumbled on his nose and fell\n",
            "rage he went to the cellar to draw a little beer and quickly did return to say t\n",
            "john cooks grey mare john cook had a little grey mare he haw hum her back stood \n",
            "use else it was he tommy tittlemouse little tommy tittlemouse lived in a little \n",
            " little tommy tittlemouse lived in a little house he caught fishes in other mens\n",
            "mens ditches a and b and see great a little a bouncing b the cats in the cupboar\n",
            "ves warm the quarrelsome kittens two little kittens one stormy night they began \n",
            "on you shant have the mouse said the little one i told you before t was a stormy\n",
            " t was a stormy night when these two little kittens began to fight the old woman\n",
            "ered with frost and snow and the two little kittens had nowhere to go so they la\n"
          ],
          "name": "stdout"
        }
      ]
    },
    {
      "cell_type": "markdown",
      "metadata": {
        "id": "TIVR0fznOwAL"
      },
      "source": [
        "Another common bit of information you may want to browse are the text's \"collocations,\" which is a concept from linguistics that refers to words that commonly appear next to each other. For example, \"New York\" is likely to appear as a collocation for any corpus that talks about the state or the city of New York. \n",
        "\n",
        "You can change the number of collocations to display by changing the \"number\" field."
      ]
    },
    {
      "cell_type": "code",
      "metadata": {
        "id": "4mUYopTKuQlj",
        "colab": {
          "base_uri": "https://localhost:8080/"
        },
        "outputId": "89a327e9-0672-4e86-e7cf-3aa32ccf7b3d"
      },
      "source": [
        "number = 20\n",
        "my_text.collocations(num=number)"
      ],
      "execution_count": null,
      "outputs": [
        {
          "output_type": "stream",
          "text": [
            "heigho says; old woman; powley gammon; spinach heigho; anthony rowley;\n",
            "rowley powley; says anthony; came back; haw hum; home tonight; riddle\n",
            "lol; jack built; says rowley; shant get; carrion crow; lady lee;\n",
            "simple simon; wang waddle; wing wang; dance oer\n"
          ],
          "name": "stdout"
        }
      ]
    },
    {
      "cell_type": "markdown",
      "metadata": {
        "id": "YL-3Y3hZP2B7"
      },
      "source": [
        "Another interesting statistic when investigating an individual word is the word's \"distributional similarity.\" This refers to words that are likely to occur in similar contexts. It is inspired by what is called the \"distributional hypothesis\" in linguistics, or the idea that words that are used in similar contexts tend to have similar meanings. \n",
        "\n",
        "We'll talk more about the distributional hypothesis later in the quarter. The following cell lets you select a word to compare contextually."
      ]
    },
    {
      "cell_type": "code",
      "metadata": {
        "colab": {
          "base_uri": "https://localhost:8080/"
        },
        "id": "v-p8AnW78hDc",
        "outputId": "13a59a44-ab36-4983-fdf7-5a6e5f62b04d"
      },
      "source": [
        "word = \"little\"\n",
        "my_text.similar(word, num=20)"
      ],
      "execution_count": null,
      "outputs": [
        {
          "output_type": "stream",
          "text": [
            "good penny cow wild poor shoe pretty young crooked wife the queen no\n",
            "coatie man any dickybird tail calf whale\n"
          ],
          "name": "stdout"
        }
      ]
    },
    {
      "cell_type": "markdown",
      "metadata": {
        "id": "OgHWDJaSQefm"
      },
      "source": [
        "**Reflection**\n",
        "\n",
        "Pick one of the artists from the poplyrics dataset. Produce a list of the most “distinctive” words for that artist. Then, write a “close reading” of this set of words that speculates about what they tell you about their style. It may help to use the concordance and similarity functions from NLTK to get a better grasp of how they are used in context. Optionally, you might see how this artist’s distinctive words compare to those of other artists.\n",
        "\n"
      ]
    },
    {
      "cell_type": "markdown",
      "metadata": {
        "id": "7vx61Rl52Kw5"
      },
      "source": [
        "**PART TWO: SEMANTIC COHORTS**\n",
        "\n",
        "In the remainder of this notebook, we are going to explore the concept of a \"semantic cohort\" from the Heuser and Le Khac reading. Instead of novels, we're going to use popular song lyrics from 1960 to 2017.\n",
        "\n",
        "First, upload the file \"millionsongdata.json,\" a dataset of word counts from the [Million Song Dataset](http://www.thegrammarlab.com/?nor-portfolio=song-lyrics-data-tables)."
      ]
    },
    {
      "cell_type": "code",
      "metadata": {
        "id": "kMLPRc7W27lq"
      },
      "source": [
        "files.upload()"
      ],
      "execution_count": null,
      "outputs": []
    },
    {
      "cell_type": "markdown",
      "metadata": {
        "id": "2XfCuQeL4Glg"
      },
      "source": [
        "In the next cell, we'll read the data. Instead of plain text, this time we'll be working with word-counts, since the creators of the Million Song Dataset already did that work for us. The data contains a list of the number of times the word appears per million words in our corpus, for each half-decade between 1960 and 2017. So the first item is the number of times it appears per million words between 1960 and 1965, the second between 1965 and 1970, and so on.\n",
        "\n",
        "The cell prints out the numbers for \"love\" as an example."
      ]
    },
    {
      "cell_type": "code",
      "metadata": {
        "id": "Y3tqjlEr4F7y",
        "colab": {
          "base_uri": "https://localhost:8080/"
        },
        "outputId": "3ba61803-e0ff-4696-9037-236d128a3304"
      },
      "source": [
        "with open('millionsongdata.json', 'r') as jsonfile:\n",
        "    data = json.load(jsonfile)\n",
        "data['love']"
      ],
      "execution_count": null,
      "outputs": [
        {
          "output_type": "execute_result",
          "data": {
            "text/plain": [
              "[10931.63,\n",
              " 8114.901999999999,\n",
              " 7807.541999999998,\n",
              " 8156.978,\n",
              " 7493.709999999999,\n",
              " 7563.395999999999,\n",
              " 7064.946000000001,\n",
              " 5964.828,\n",
              " 5362.965999999999,\n",
              " 5036.629999999999,\n",
              " 6607.312,\n",
              " 8194.74]"
            ]
          },
          "metadata": {
            "tags": []
          },
          "execution_count": 15
        }
      ]
    },
    {
      "cell_type": "markdown",
      "metadata": {
        "id": "2EIgVrc3CbMx"
      },
      "source": [
        "What words are in our dataset? The following cell prints out the total number of words we can consider: 2987. Then, you can check to see if a specific word is present. If you change test_word to a word that is not present in the data, the cell will give you an error."
      ]
    },
    {
      "cell_type": "code",
      "metadata": {
        "id": "nZr9Mtum_Wwp",
        "colab": {
          "base_uri": "https://localhost:8080/"
        },
        "outputId": "0fe670f8-f119-470e-96d2-11b0e851e109"
      },
      "source": [
        "test_word = \"love\"\n",
        "\n",
        "print('Total number of words: ', len(data))\n",
        "try:\n",
        "    data[test_word]\n",
        "    print(f'Yes, \"{test_word}\" is present in the data.')\n",
        "except KeyError:\n",
        "    print(f'Error: \"{test_word}\" is not present in the data.')"
      ],
      "execution_count": null,
      "outputs": [
        {
          "output_type": "stream",
          "text": [
            "Total number of words:  2987\n",
            "Yes, \"love\" is present in the data.\n"
          ],
          "name": "stdout"
        }
      ]
    },
    {
      "cell_type": "markdown",
      "metadata": {
        "id": "J_FRZKDB4235"
      },
      "source": [
        "In the Heuser and Le Khac reading, they defined a semantic cohort as a group of words that rise and fall in usage together in a specific corpus. Though they may not be synonyms, the fact that their usage moves in tandem implies that they are used to talk about similar topics or related concepts.\n",
        "\n",
        "How do we locate a semantic cohort? In their article, they calculated the correlation with every single word in their corpus with every other word. That would take a long time to compute, so we're only going to calculate that correlation for a single word at a time.\n",
        "\n",
        "Based either on your own curiosity or on words that you noticed in Part One, select a \"seed\" word in the field below. Run the cell to generate a cohort of correlated words. If you get an error, try a different word - not all words are present in the dataset.\n",
        "\n"
      ]
    },
    {
      "cell_type": "code",
      "metadata": {
        "id": "1TcaEieIA1To"
      },
      "source": [
        "from scipy.stats import zscore, pearsonr\n",
        "\n",
        "seed = \"love\"\n",
        "query_dict = {}\n",
        "X = zscore(data[seed])\n",
        "for word in data:\n",
        "    Y = zscore(data[word])\n",
        "    r = pearsonr(X, Y)[0]\n",
        "    query_dict[word] = r"
      ],
      "execution_count": null,
      "outputs": []
    },
    {
      "cell_type": "markdown",
      "metadata": {
        "id": "iJiXw3WB5M5h"
      },
      "source": [
        "The following cell displays the top 20 words most correlated with your seed word and saves those as your \"semantic cohort.\" Feel free to adjust the \"num_to_include\" value to include more or fewer words, depending on the intelligibility of the words you find."
      ]
    },
    {
      "cell_type": "code",
      "metadata": {
        "id": "naCJeXnb5M_r",
        "colab": {
          "base_uri": "https://localhost:8080/"
        },
        "outputId": "3cfc9529-e39c-4d58-b0d3-198685440b9e"
      },
      "source": [
        "num_to_include = 20\n",
        "query_sorted = sorted(query_dict.items(), key=lambda item: item[1], reverse=True)\n",
        "cohort = query_sorted[:num_to_include]\n",
        "cohort"
      ],
      "execution_count": null,
      "outputs": [
        {
          "output_type": "execute_result",
          "data": {
            "text/plain": [
              "[('love', 1.0),\n",
              " ('him', 0.9539192473021315),\n",
              " ('affair', 0.9335622701571187),\n",
              " ('sixteen', 0.9222057060848136),\n",
              " ('she', 0.9212676380630078),\n",
              " ('guitar', 0.9190609770442514),\n",
              " ('married', 0.9164862569610915),\n",
              " ('sidewalk', 0.9115931622313285),\n",
              " ('honey', 0.9096028204200005),\n",
              " ('thrill', 0.9062419386583745),\n",
              " ('boogie', 0.9010050914069694),\n",
              " ('women', 0.8987285373216072),\n",
              " ('peak', 0.8954317115416272),\n",
              " ('fellow', 0.8947032401350684),\n",
              " ('he', 0.8944083012209761),\n",
              " ('train', 0.8942425777503251),\n",
              " ('gold', 0.88958118057808),\n",
              " ('instrumental', 0.8888040908059868),\n",
              " ('linda', 0.8849473319580257),\n",
              " ('cafe', 0.8844958360468869)]"
            ]
          },
          "metadata": {
            "tags": []
          },
          "execution_count": 20
        }
      ]
    },
    {
      "cell_type": "markdown",
      "metadata": {
        "id": "gz7YFVf-DxIv"
      },
      "source": [
        "Now that we've produced a semantic cohort, let's make a simple plot of its behavior over time. The following cell generates a basic scatterplot that shows the relative frequencies of every word in your cohort from 1960 to 2017. \n",
        "\n",
        "Note that the y-axis is scaled in standard deviations rather than the actual per-million counts. This means that you are looking at the relative change of the word usage rather than it's absolute change. "
      ]
    },
    {
      "cell_type": "code",
      "metadata": {
        "id": "-A3TLRYB9nZ5",
        "colab": {
          "base_uri": "https://localhost:8080/",
          "height": 265
        },
        "outputId": "b355168e-2479-4304-d344-95b1302fb829"
      },
      "source": [
        "import matplotlib.pyplot as plt\n",
        "\n",
        "years = ['1960', '1965', '1970', \n",
        "         '1975', '1980', '1985', \n",
        "         '1990', '1995', '2000', \n",
        "         '2005', '2010', '2015']\n",
        "\n",
        "fig = plt.figure()\n",
        "ax1 = fig.add_subplot(111)\n",
        "\n",
        "for word in cohort:\n",
        "\n",
        "    ax1.scatter(years, zscore(data[word[0]]), s=15, label=word[0])\n",
        "\n",
        "ax1.legend(loc='upper center', bbox_to_anchor=(1.5, 1.00),\n",
        "          ncol=3, fancybox=True, shadow=True)\n",
        "plt.show()"
      ],
      "execution_count": null,
      "outputs": [
        {
          "output_type": "display_data",
          "data": {
            "image/png": "[encoded data removed]",
            "text/plain": [
              "<Figure size 432x288 with 1 Axes>"
            ]
          },
          "metadata": {
            "tags": [],
            "needs_background": "light"
          }
        }
      ]
    },
    {
      "cell_type": "markdown",
      "metadata": {
        "id": "VgmOJ_C5QuoN"
      },
      "source": [
        "**Reflection**\n",
        "\n",
        "Find a “seed” word that produces an interesting set of correlated words. You might use a word from Part One, a word from the article we read on pop lyrics, or you might simply try different words until you find something interesting. Then, write a reflection on this semantic cohort and its trend line over time. What is the logic that “binds” these words together, if any? What does the trend line tell you about the history of pop as catalogued by this corpus?"
      ]
    }
  ]
}